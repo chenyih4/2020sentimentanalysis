{
  "nbformat": 4,
  "nbformat_minor": 0,
  "metadata": {
    "colab": {
      "name": "COG403_Project.ipynb",
      "provenance": [],
      "collapsed_sections": []
    },
    "kernelspec": {
      "name": "python3",
      "display_name": "Python 3"
    },
    "accelerator": "GPU"
  },
  "cells": [
    {
      "cell_type": "markdown",
      "metadata": {
        "id": "ZPg8TiwlCvLA",
        "colab_type": "text"
      },
      "source": [
        "# Preprocessing Data \n"
      ]
    },
    {
      "cell_type": "code",
      "metadata": {
        "id": "cm7-fYM2Qq4H",
        "colab_type": "code",
        "colab": {}
      },
      "source": [
        "import pandas as pd\n",
        "import json\n",
        "import numpy as np\n",
        "import matplotlib.pyplot as plt\n",
        "from matplotlib.ticker import PercentFormatter\n",
        "import seaborn as sns\n",
        "from sklearn.model_selection import train_test_split\n",
        "from sklearn.preprocessing import LabelEncoder\n",
        "from keras.models import Model\n",
        "from keras.layers import LSTM, Activation, Dense, Dropout, Input, Embedding\n",
        "from keras.optimizers import RMSprop\n",
        "from keras.preprocessing import sequence\n",
        "from keras.callbacks import EarlyStopping\n",
        "from sklearn.feature_extraction.text import CountVectorizer\n",
        "from keras.preprocessing.text import Tokenizer\n",
        "from keras.preprocessing.sequence import pad_sequences\n",
        "from keras.models import Sequential\n",
        "from sklearn.model_selection import StratifiedKFold, cross_val_score\n",
        "from sklearn import svm, metrics\n",
        "\n",
        "%matplotlib inline\n",
        "import os\n",
        "import re\n",
        "print(os.listdir(\"/content\"))"
      ],
      "execution_count": 0,
      "outputs": []
    },
    {
      "cell_type": "markdown",
      "metadata": {
        "id": "Quqk4g1ILaMR",
        "colab_type": "text"
      },
      "source": [
        "# New Section"
      ]
    },
    {
      "cell_type": "code",
      "metadata": {
        "id": "jieHwlfqZ2Yh",
        "colab_type": "code",
        "outputId": "7e9d0056-979d-4338-8113-3715512c6400",
        "colab": {
          "base_uri": "https://localhost:8080/",
          "height": 391
        }
      },
      "source": [
        "df = pd.read_json(\"/content/Sarcasm_Headlines_Dataset.json\", lines=True)\n",
        "df = df.drop(['article_link'], axis=1)\n",
        "df['headline_count'] = df.headline.apply(lambda x: len(list(x.split())))\n",
        "df['headline_unique_word_count'] = df.headline.apply(lambda x: len(set(x.split())))\n",
        "df['headline_has_digits'] = df.headline.apply(lambda x: bool(re.search(r'\\d', x)))\n",
        "df['length'] = df['headline'].apply(lambda x: len(x.split(\" \")))\n",
        "\n",
        "df.head()"
      ],
      "execution_count": 12,
      "outputs": [
        {
          "output_type": "execute_result",
          "data": {
            "text/html": [
              "<div>\n",
              "<style scoped>\n",
              "    .dataframe tbody tr th:only-of-type {\n",
              "        vertical-align: middle;\n",
              "    }\n",
              "\n",
              "    .dataframe tbody tr th {\n",
              "        vertical-align: top;\n",
              "    }\n",
              "\n",
              "    .dataframe thead th {\n",
              "        text-align: right;\n",
              "    }\n",
              "</style>\n",
              "<table border=\"1\" class=\"dataframe\">\n",
              "  <thead>\n",
              "    <tr style=\"text-align: right;\">\n",
              "      <th></th>\n",
              "      <th>headline</th>\n",
              "      <th>is_sarcastic</th>\n",
              "      <th>headline_count</th>\n",
              "      <th>headline_unique_word_count</th>\n",
              "      <th>headline_has_digits</th>\n",
              "      <th>length</th>\n",
              "    </tr>\n",
              "  </thead>\n",
              "  <tbody>\n",
              "    <tr>\n",
              "      <th>0</th>\n",
              "      <td>former versace store clerk sues over secret 'b...</td>\n",
              "      <td>0</td>\n",
              "      <td>12</td>\n",
              "      <td>12</td>\n",
              "      <td>False</td>\n",
              "      <td>12</td>\n",
              "    </tr>\n",
              "    <tr>\n",
              "      <th>1</th>\n",
              "      <td>the 'roseanne' revival catches up to our thorn...</td>\n",
              "      <td>0</td>\n",
              "      <td>14</td>\n",
              "      <td>14</td>\n",
              "      <td>False</td>\n",
              "      <td>14</td>\n",
              "    </tr>\n",
              "    <tr>\n",
              "      <th>2</th>\n",
              "      <td>mom starting to fear son's web series closest ...</td>\n",
              "      <td>1</td>\n",
              "      <td>14</td>\n",
              "      <td>13</td>\n",
              "      <td>False</td>\n",
              "      <td>14</td>\n",
              "    </tr>\n",
              "    <tr>\n",
              "      <th>3</th>\n",
              "      <td>boehner just wants wife to listen, not come up...</td>\n",
              "      <td>1</td>\n",
              "      <td>13</td>\n",
              "      <td>13</td>\n",
              "      <td>False</td>\n",
              "      <td>13</td>\n",
              "    </tr>\n",
              "    <tr>\n",
              "      <th>4</th>\n",
              "      <td>j.k. rowling wishes snape happy birthday in th...</td>\n",
              "      <td>0</td>\n",
              "      <td>11</td>\n",
              "      <td>11</td>\n",
              "      <td>False</td>\n",
              "      <td>11</td>\n",
              "    </tr>\n",
              "  </tbody>\n",
              "</table>\n",
              "</div>"
            ],
            "text/plain": [
              "                                            headline  ...  length\n",
              "0  former versace store clerk sues over secret 'b...  ...      12\n",
              "1  the 'roseanne' revival catches up to our thorn...  ...      14\n",
              "2  mom starting to fear son's web series closest ...  ...      14\n",
              "3  boehner just wants wife to listen, not come up...  ...      13\n",
              "4  j.k. rowling wishes snape happy birthday in th...  ...      11\n",
              "\n",
              "[5 rows x 6 columns]"
            ]
          },
          "metadata": {
            "tags": []
          },
          "execution_count": 2
        },
        {
          "output_type": "execute_result",
          "data": {
            "text/html": [
              "<div>\n",
              "<style scoped>\n",
              "    .dataframe tbody tr th:only-of-type {\n",
              "        vertical-align: middle;\n",
              "    }\n",
              "\n",
              "    .dataframe tbody tr th {\n",
              "        vertical-align: top;\n",
              "    }\n",
              "\n",
              "    .dataframe thead th {\n",
              "        text-align: right;\n",
              "    }\n",
              "</style>\n",
              "<table border=\"1\" class=\"dataframe\">\n",
              "  <thead>\n",
              "    <tr style=\"text-align: right;\">\n",
              "      <th></th>\n",
              "      <th>headline</th>\n",
              "      <th>is_sarcastic</th>\n",
              "      <th>headline_count</th>\n",
              "      <th>headline_unique_word_count</th>\n",
              "      <th>headline_has_digits</th>\n",
              "      <th>length</th>\n",
              "    </tr>\n",
              "  </thead>\n",
              "  <tbody>\n",
              "    <tr>\n",
              "      <th>0</th>\n",
              "      <td>former versace store clerk sues over secret 'b...</td>\n",
              "      <td>0</td>\n",
              "      <td>12</td>\n",
              "      <td>12</td>\n",
              "      <td>False</td>\n",
              "      <td>12</td>\n",
              "    </tr>\n",
              "    <tr>\n",
              "      <th>1</th>\n",
              "      <td>the 'roseanne' revival catches up to our thorn...</td>\n",
              "      <td>0</td>\n",
              "      <td>14</td>\n",
              "      <td>14</td>\n",
              "      <td>False</td>\n",
              "      <td>14</td>\n",
              "    </tr>\n",
              "    <tr>\n",
              "      <th>2</th>\n",
              "      <td>mom starting to fear son's web series closest ...</td>\n",
              "      <td>1</td>\n",
              "      <td>14</td>\n",
              "      <td>13</td>\n",
              "      <td>False</td>\n",
              "      <td>14</td>\n",
              "    </tr>\n",
              "    <tr>\n",
              "      <th>3</th>\n",
              "      <td>boehner just wants wife to listen, not come up...</td>\n",
              "      <td>1</td>\n",
              "      <td>13</td>\n",
              "      <td>13</td>\n",
              "      <td>False</td>\n",
              "      <td>13</td>\n",
              "    </tr>\n",
              "    <tr>\n",
              "      <th>4</th>\n",
              "      <td>j.k. rowling wishes snape happy birthday in th...</td>\n",
              "      <td>0</td>\n",
              "      <td>11</td>\n",
              "      <td>11</td>\n",
              "      <td>False</td>\n",
              "      <td>11</td>\n",
              "    </tr>\n",
              "  </tbody>\n",
              "</table>\n",
              "</div>"
            ],
            "text/plain": [
              "                                            headline  ...  length\n",
              "0  former versace store clerk sues over secret 'b...  ...      12\n",
              "1  the 'roseanne' revival catches up to our thorn...  ...      14\n",
              "2  mom starting to fear son's web series closest ...  ...      14\n",
              "3  boehner just wants wife to listen, not come up...  ...      13\n",
              "4  j.k. rowling wishes snape happy birthday in th...  ...      11\n",
              "\n",
              "[5 rows x 6 columns]"
            ]
          },
          "metadata": {
            "tags": []
          },
          "execution_count": 12
        }
      ]
    },
    {
      "cell_type": "code",
      "metadata": {
        "id": "ln5xckelZ42V",
        "colab_type": "code",
        "outputId": "93327a4f-4fb7-4672-fd66-4594bdc04a36",
        "colab": {
          "base_uri": "https://localhost:8080/",
          "height": 1000
        }
      },
      "source": [
        "sarcastic_dat = df.groupby('is_sarcastic').count()\n",
        "sarcastic_dat.index = ['Non-sarcastic','Sarcastic']\n",
        "plt.xlabel('Lable of headlines (Sarcastic & Non-sarcastic)')\n",
        "plt.ylabel('Frequencies of headlines')\n",
        "plt.xticks(fontsize=10)\n",
        "plt.title('Frequencies of Sarcastic vs Non-sarcastic headlines')\n",
        "bar_graph = plt.bar(sarcastic_dat.index, sarcastic_dat.headline_count)\n",
        "bar_graph[1].set_color('y')\n",
        "plt.show()\n",
        "\n",
        "plt.xlabel('Lable of headlines (Sarcastic & Non-sarcastic)')\n",
        "plt.ylabel('Proportion of headlines')\n",
        "plt.xticks(fontsize=10)\n",
        "plt.title('Proportion of Sarcastic vs Non-sarcastic headlines')\n",
        "bar_graph = plt.bar(sarcastic_dat.index, sarcastic_dat.headline_count / sarcastic_dat.headline_count.sum())\n",
        "bar_graph[1].set_color('y')\n",
        "plt.gca().yaxis.set_major_formatter(PercentFormatter(1))\n",
        "plt.show()\n",
        "\n",
        "# This is not an imbalanced class dataset\n",
        "# Non-sarcastic    0.56\n",
        "# Sarcastic        0.44\n",
        "round(sarcastic_dat.headline_count / sarcastic_dat.headline_count.sum(), 2)"
      ],
      "execution_count": 13,
      "outputs": [
        {
          "output_type": "display_data",
          "data": {
            "image/png": "[encoded data removed]",
            "text/plain": [
              "<Figure size 432x288 with 1 Axes>"
            ]
          },
          "metadata": {
            "tags": []
          }
        },
        {
          "output_type": "display_data",
          "data": {
            "image/png": "[encoded data removed]",
            "text/plain": [
              "<Figure size 432x288 with 1 Axes>"
            ]
          },
          "metadata": {
            "tags": []
          }
        },
        {
          "output_type": "execute_result",
          "data": {
            "text/plain": [
              "Non-sarcastic    0.56\n",
              "Sarcastic        0.44\n",
              "Name: headline_count, dtype: float64"
            ]
          },
          "metadata": {
            "tags": []
          },
          "execution_count": 3
        },
        {
          "output_type": "display_data",
          "data": {
            "image/png": "[encoded data removed]",
            "text/plain": [
              "<Figure size 432x288 with 1 Axes>"
            ]
          },
          "metadata": {
            "tags": []
          }
        },
        {
          "output_type": "display_data",
          "data": {
            "image/png": "[encoded data removed]",
            "text/plain": [
              "<Figure size 432x288 with 1 Axes>"
            ]
          },
          "metadata": {
            "tags": []
          }
        },
        {
          "output_type": "execute_result",
          "data": {
            "text/plain": [
              "Non-sarcastic    0.56\n",
              "Sarcastic        0.44\n",
              "Name: headline_count, dtype: float64"
            ]
          },
          "metadata": {
            "tags": []
          },
          "execution_count": 13
        }
      ]
    },
    {
      "cell_type": "markdown",
      "metadata": {
        "id": "kL5G9SqAVBP5",
        "colab_type": "text"
      },
      "source": [
        "#Creating Embedding Matrix by Pre-Trained Glove Word Vectors\n"
      ]
    },
    {
      "cell_type": "code",
      "metadata": {
        "id": "t8s8qk4igmUh",
        "colab_type": "code",
        "colab": {}
      },
      "source": [
        "max_features = 10000\n",
        "maxlen = 100\n",
        "embedding_size = 50\n",
        "\n",
        "tokenizer = Tokenizer(num_words=max_features)\n",
        "tokenizer.fit_on_texts(list(df['headline']))\n",
        "X = tokenizer.texts_to_sequences(df['headline'])\n",
        "X = pad_sequences(X, maxlen = maxlen)\n",
        "Y = df['is_sarcastic']"
      ],
      "execution_count": 0,
      "outputs": []
    },
    {
      "cell_type": "code",
      "metadata": {
        "id": "RRI4qPHGm4ym",
        "colab_type": "code",
        "outputId": "52d5daa1-32e1-411a-8480-ff5c9df32a9f",
        "colab": {
          "base_uri": "https://localhost:8080/",
          "height": 105
        }
      },
      "source": [
        "word_index = tokenizer.word_index\n",
        "num_words = min(max_features, len(word_index))\n",
        "\n",
        "WordEM_FILE=\"/content/glove.6B.50d.txt\"\n",
        "def get_coefs(word,*arr): \n",
        "  return word, np.asarray(arr, dtype='float32')\n",
        "embeddings_index = dict(get_coefs(*o.strip().split(\" \")) for o in open(WordEM_FILE) if len(o)>100)\n",
        "\n",
        "word_em = np.column_stack(embeddings_index.values())\n",
        "em_mean, em_std = word_em.mean(), word_em.std()\n",
        "embed_size = word_em.shape[1]\n",
        "\n",
        "embedding_matrix = np.random.normal(em_mean, em_std, (num_words, embedding_size))\n",
        "for word, i in word_index.items():\n",
        "    if i >= max_features: \n",
        "      continue\n",
        "    embedding_vector = embeddings_index.get(word)\n",
        "    if embedding_vector is not None: embedding_matrix[i] = embedding_vector"
      ],
      "execution_count": 15,
      "outputs": [
        {
          "output_type": "stream",
          "text": [
            "/usr/local/lib/python3.6/dist-packages/ipykernel_launcher.py:9: FutureWarning: arrays to stack must be passed as a \"sequence\" type such as list or tuple. Support for non-sequence iterables such as generators is deprecated as of NumPy 1.16 and will raise an error in the future.\n",
            "  if __name__ == '__main__':\n",
            "/usr/local/lib/python3.6/dist-packages/ipykernel_launcher.py:9: FutureWarning: arrays to stack must be passed as a \"sequence\" type such as list or tuple. Support for non-sequence iterables such as generators is deprecated as of NumPy 1.16 and will raise an error in the future.\n",
            "  if __name__ == '__main__':\n"
          ],
          "name": "stderr"
        }
      ]
    },
    {
      "cell_type": "markdown",
      "metadata": {
        "id": "req8xnsvVBpN",
        "colab_type": "text"
      },
      "source": [
        "# Train LSTM model"
      ]
    },
    {
      "cell_type": "code",
      "metadata": {
        "id": "OX_bMGvRU5l2",
        "colab_type": "code",
        "outputId": "19ad83b2-65db-4589-a9c1-60f12de3f7a2",
        "colab": {
          "base_uri": "https://localhost:8080/",
          "height": 1000
        }
      },
      "source": [
        "import tensorflow as tf\n",
        "from keras import regularizers\n",
        "from sklearn.metrics import roc_curve,auc\n",
        "from numpy import interp\n",
        "\n",
        "tprs=[]\n",
        "aucs=[]\n",
        "f1_scores = []\n",
        "mean_fpr=np.linspace(0,1,100)\n",
        "i = 0\n",
        "seed = 7\n",
        "np.random.seed(seed)\n",
        "# Experimenting 10-fold cross validation test\n",
        "kfold = StratifiedKFold(n_splits=10, shuffle=True, random_state=seed)\n",
        "cvscores = []\n",
        "for train, test in kfold.split(X, Y):\n",
        "  model = tf.keras.Sequential()\n",
        "  model.add(tf.keras.layers.Embedding(max_features, embedding_size, weights = [embedding_matrix]))\n",
        "  model.add(tf.keras.layers.SpatialDropout1D(0.2))\n",
        "  model.add(tf.keras.layers.Bidirectional(tf.keras.layers.LSTM(32)))\n",
        "  model.add(tf.keras.layers.Dense(100, kernel_regularizer=tf.keras.regularizers.l2(0.003), activation='relu'))\n",
        "  model.add(tf.keras.layers.BatchNormalization())\n",
        "  model.add(tf.keras.layers.Dropout(0.5))\n",
        "  model.add(tf.keras.layers.Dense(1, kernel_regularizer=tf.keras.regularizers.l2(0.003), activation='sigmoid'))\n",
        "  model.compile(loss = 'binary_crossentropy', optimizer='adam', metrics = ['accuracy'])\n",
        "  history = model.fit(X[train], Y[train], epochs=20, batch_size=1024,verbose=1)\n",
        "  scores = model.evaluate(X[test], Y[test], verbose=1)\n",
        "  print(\"%s: %.2f%%\" % (model.metrics_names[1], scores[1]*100))\n",
        "\n",
        "  y_pred = model.predict(X[test], batch_size=1024, verbose=1)\n",
        "  one_score = metrics.f1_score(Y[test], y_pred.round(), average='macro')\n",
        "  f1_scores.append(one_score)\n",
        "\n",
        "  fpr,tpr,thresholds=roc_curve(Y[test],y_pred) \n",
        "  tprs.append(interp(mean_fpr,fpr,tpr))\n",
        "  tprs[-1][0]=0.0\n",
        "  roc_auc=auc(fpr,tpr)\n",
        "  aucs.append(roc_auc)\n",
        "  plt.plot(fpr, tpr, lw=1, alpha=0.3, label='ROC fold %d(area=%0.2f)'% (i, roc_auc))\n",
        "  i +=1\n",
        "\n",
        "model.summary()\n",
        "cvscores.append(scores[1] * 100)\n",
        "print(\"Accuracy: %.2f%% (+/- %.2f%%)\" % (np.mean(cvscores), np.std(cvscores)* 2))\n",
        "print(\"Macro f1 score: \", np.mean(f1_scores)\n",
        ")"
      ],
      "execution_count": 17,
      "outputs": [
        {
          "output_type": "stream",
          "text": [
            "Epoch 1/20\n",
            "24/24 [==============================] - 1s 34ms/step - loss: 1.0326 - accuracy: 0.5441\n",
            "Epoch 2/20\n",
            "24/24 [==============================] - 1s 34ms/step - loss: 0.9145 - accuracy: 0.5861\n",
            "Epoch 3/20\n",
            "24/24 [==============================] - 1s 34ms/step - loss: 0.8479 - accuracy: 0.6177\n",
            "Epoch 4/20\n",
            "24/24 [==============================] - 1s 34ms/step - loss: 0.7787 - accuracy: 0.6592\n",
            "Epoch 5/20\n",
            "24/24 [==============================] - 1s 34ms/step - loss: 0.6968 - accuracy: 0.7144\n",
            "Epoch 6/20\n",
            "24/24 [==============================] - 1s 34ms/step - loss: 0.6186 - accuracy: 0.7640\n",
            "Epoch 7/20\n",
            "24/24 [==============================] - 1s 34ms/step - loss: 0.5507 - accuracy: 0.7949\n",
            "Epoch 8/20\n",
            "24/24 [==============================] - 1s 34ms/step - loss: 0.4974 - accuracy: 0.8183\n",
            "Epoch 9/20\n",
            "24/24 [==============================] - 1s 33ms/step - loss: 0.4570 - accuracy: 0.8373\n",
            "Epoch 10/20\n",
            "24/24 [==============================] - 1s 34ms/step - loss: 0.4244 - accuracy: 0.8473\n",
            "Epoch 11/20\n",
            "24/24 [==============================] - 1s 34ms/step - loss: 0.3948 - accuracy: 0.8590\n",
            "Epoch 12/20\n",
            "24/24 [==============================] - 1s 33ms/step - loss: 0.3698 - accuracy: 0.8665\n",
            "Epoch 13/20\n",
            "24/24 [==============================] - 1s 33ms/step - loss: 0.3453 - accuracy: 0.8768\n",
            "Epoch 14/20\n",
            "24/24 [==============================] - 1s 33ms/step - loss: 0.3261 - accuracy: 0.8832\n",
            "Epoch 15/20\n",
            "24/24 [==============================] - 1s 34ms/step - loss: 0.3083 - accuracy: 0.8896\n",
            "Epoch 16/20\n",
            "24/24 [==============================] - 1s 34ms/step - loss: 0.2872 - accuracy: 0.8963\n",
            "Epoch 17/20\n",
            "24/24 [==============================] - 1s 34ms/step - loss: 0.2771 - accuracy: 0.8975\n",
            "Epoch 18/20\n",
            "24/24 [==============================] - 1s 33ms/step - loss: 0.2617 - accuracy: 0.9046\n",
            "Epoch 19/20\n",
            "24/24 [==============================] - 1s 34ms/step - loss: 0.2463 - accuracy: 0.9111\n",
            "Epoch 20/20\n",
            "24/24 [==============================] - 1s 33ms/step - loss: 0.2374 - accuracy: 0.9138\n",
            "84/84 [==============================] - 0s 5ms/step - loss: 0.3072 - accuracy: 0.8787\n",
            "accuracy: 87.87%\n",
            "3/3 [==============================] - 0s 7ms/step\n",
            "Epoch 1/20\n",
            "24/24 [==============================] - 1s 34ms/step - loss: 1.0541 - accuracy: 0.5285\n",
            "Epoch 2/20\n",
            "24/24 [==============================] - 1s 33ms/step - loss: 0.9200 - accuracy: 0.5781\n",
            "Epoch 3/20\n",
            "24/24 [==============================] - 1s 34ms/step - loss: 0.8390 - accuracy: 0.6258\n",
            "Epoch 4/20\n",
            "24/24 [==============================] - 1s 33ms/step - loss: 0.7682 - accuracy: 0.6738\n",
            "Epoch 5/20\n",
            "24/24 [==============================] - 1s 34ms/step - loss: 0.6836 - accuracy: 0.7217\n",
            "Epoch 6/20\n",
            "24/24 [==============================] - 1s 33ms/step - loss: 0.6160 - accuracy: 0.7630\n",
            "Epoch 7/20\n",
            "24/24 [==============================] - 1s 34ms/step - loss: 0.5457 - accuracy: 0.7970\n",
            "Epoch 8/20\n",
            "24/24 [==============================] - 1s 34ms/step - loss: 0.4938 - accuracy: 0.8221\n",
            "Epoch 9/20\n",
            "24/24 [==============================] - 1s 34ms/step - loss: 0.4478 - accuracy: 0.8368\n",
            "Epoch 10/20\n",
            "24/24 [==============================] - 1s 34ms/step - loss: 0.4214 - accuracy: 0.8516\n",
            "Epoch 11/20\n",
            "24/24 [==============================] - 1s 34ms/step - loss: 0.3917 - accuracy: 0.8573\n",
            "Epoch 12/20\n",
            "24/24 [==============================] - 1s 34ms/step - loss: 0.3625 - accuracy: 0.8716\n",
            "Epoch 13/20\n",
            "24/24 [==============================] - 1s 33ms/step - loss: 0.3434 - accuracy: 0.8760\n",
            "Epoch 14/20\n",
            "24/24 [==============================] - 1s 33ms/step - loss: 0.3220 - accuracy: 0.8814\n",
            "Epoch 15/20\n",
            "24/24 [==============================] - 1s 34ms/step - loss: 0.3056 - accuracy: 0.8901\n",
            "Epoch 16/20\n",
            "24/24 [==============================] - 1s 33ms/step - loss: 0.2845 - accuracy: 0.8975\n",
            "Epoch 17/20\n",
            "24/24 [==============================] - 1s 33ms/step - loss: 0.2707 - accuracy: 0.9039\n",
            "Epoch 18/20\n",
            "24/24 [==============================] - 1s 34ms/step - loss: 0.2586 - accuracy: 0.9059\n",
            "Epoch 19/20\n",
            "24/24 [==============================] - 1s 33ms/step - loss: 0.2463 - accuracy: 0.9104\n",
            "Epoch 20/20\n",
            "24/24 [==============================] - 1s 33ms/step - loss: 0.2339 - accuracy: 0.9152\n",
            "84/84 [==============================] - 0s 5ms/step - loss: 0.2950 - accuracy: 0.8907\n",
            "accuracy: 89.07%\n",
            "3/3 [==============================] - 0s 8ms/step\n",
            "Epoch 1/20\n",
            "24/24 [==============================] - 1s 33ms/step - loss: 1.0491 - accuracy: 0.5291\n",
            "Epoch 2/20\n",
            "24/24 [==============================] - 1s 33ms/step - loss: 0.9150 - accuracy: 0.5839\n",
            "Epoch 3/20\n",
            "24/24 [==============================] - 1s 34ms/step - loss: 0.8385 - accuracy: 0.6270\n",
            "Epoch 4/20\n",
            "24/24 [==============================] - 1s 33ms/step - loss: 0.7612 - accuracy: 0.6802\n",
            "Epoch 5/20\n",
            "24/24 [==============================] - 1s 33ms/step - loss: 0.6698 - accuracy: 0.7348\n",
            "Epoch 6/20\n",
            "24/24 [==============================] - 1s 34ms/step - loss: 0.5953 - accuracy: 0.7762\n",
            "Epoch 7/20\n",
            "24/24 [==============================] - 1s 33ms/step - loss: 0.5286 - accuracy: 0.8041\n",
            "Epoch 8/20\n",
            "24/24 [==============================] - 1s 34ms/step - loss: 0.4769 - accuracy: 0.8301\n",
            "Epoch 9/20\n",
            "24/24 [==============================] - 1s 34ms/step - loss: 0.4388 - accuracy: 0.8423\n",
            "Epoch 10/20\n",
            "24/24 [==============================] - 1s 33ms/step - loss: 0.4062 - accuracy: 0.8543\n",
            "Epoch 11/20\n",
            "24/24 [==============================] - 1s 34ms/step - loss: 0.3785 - accuracy: 0.8637\n",
            "Epoch 12/20\n",
            "24/24 [==============================] - 1s 34ms/step - loss: 0.3554 - accuracy: 0.8728\n",
            "Epoch 13/20\n",
            "24/24 [==============================] - 1s 33ms/step - loss: 0.3312 - accuracy: 0.8824\n",
            "Epoch 14/20\n",
            "24/24 [==============================] - 1s 33ms/step - loss: 0.3114 - accuracy: 0.8886\n",
            "Epoch 15/20\n",
            "24/24 [==============================] - 1s 34ms/step - loss: 0.2988 - accuracy: 0.8929\n",
            "Epoch 16/20\n",
            "24/24 [==============================] - 1s 34ms/step - loss: 0.2851 - accuracy: 0.8962\n",
            "Epoch 17/20\n",
            "24/24 [==============================] - 1s 34ms/step - loss: 0.2687 - accuracy: 0.9027\n",
            "Epoch 18/20\n",
            "24/24 [==============================] - 1s 34ms/step - loss: 0.2582 - accuracy: 0.9068\n",
            "Epoch 19/20\n",
            "24/24 [==============================] - 1s 33ms/step - loss: 0.2411 - accuracy: 0.9110\n",
            "Epoch 20/20\n",
            "24/24 [==============================] - 1s 33ms/step - loss: 0.2316 - accuracy: 0.9136\n",
            "84/84 [==============================] - 0s 5ms/step - loss: 0.3223 - accuracy: 0.8720\n",
            "accuracy: 87.20%\n",
            "3/3 [==============================] - 0s 8ms/step\n",
            "Epoch 1/20\n",
            "24/24 [==============================] - 1s 34ms/step - loss: 1.0919 - accuracy: 0.5357\n",
            "Epoch 2/20\n",
            "24/24 [==============================] - 1s 34ms/step - loss: 0.9598 - accuracy: 0.5728\n",
            "Epoch 3/20\n",
            "24/24 [==============================] - 1s 33ms/step - loss: 0.8797 - accuracy: 0.6124\n",
            "Epoch 4/20\n",
            "24/24 [==============================] - 1s 33ms/step - loss: 0.8013 - accuracy: 0.6605\n",
            "Epoch 5/20\n",
            "24/24 [==============================] - 1s 35ms/step - loss: 0.7112 - accuracy: 0.7148\n",
            "Epoch 6/20\n",
            "24/24 [==============================] - 1s 34ms/step - loss: 0.6285 - accuracy: 0.7618\n",
            "Epoch 7/20\n",
            "24/24 [==============================] - 1s 34ms/step - loss: 0.5664 - accuracy: 0.7935\n",
            "Epoch 8/20\n",
            "24/24 [==============================] - 1s 34ms/step - loss: 0.5143 - accuracy: 0.8155\n",
            "Epoch 9/20\n",
            "24/24 [==============================] - 1s 33ms/step - loss: 0.4686 - accuracy: 0.8332\n",
            "Epoch 10/20\n",
            "24/24 [==============================] - 1s 33ms/step - loss: 0.4338 - accuracy: 0.8474\n",
            "Epoch 11/20\n",
            "24/24 [==============================] - 1s 33ms/step - loss: 0.4033 - accuracy: 0.8580\n",
            "Epoch 12/20\n",
            "24/24 [==============================] - 1s 34ms/step - loss: 0.3748 - accuracy: 0.8689\n",
            "Epoch 13/20\n",
            "24/24 [==============================] - 1s 33ms/step - loss: 0.3529 - accuracy: 0.8743\n",
            "Epoch 14/20\n",
            "24/24 [==============================] - 1s 34ms/step - loss: 0.3347 - accuracy: 0.8837\n",
            "Epoch 15/20\n",
            "24/24 [==============================] - 1s 33ms/step - loss: 0.3157 - accuracy: 0.8872\n",
            "Epoch 16/20\n",
            "24/24 [==============================] - 1s 34ms/step - loss: 0.2951 - accuracy: 0.8950\n",
            "Epoch 17/20\n",
            "24/24 [==============================] - 1s 33ms/step - loss: 0.2795 - accuracy: 0.8998\n",
            "Epoch 18/20\n",
            "24/24 [==============================] - 1s 33ms/step - loss: 0.2717 - accuracy: 0.9031\n",
            "Epoch 19/20\n",
            "24/24 [==============================] - 1s 34ms/step - loss: 0.2505 - accuracy: 0.9115\n",
            "Epoch 20/20\n",
            "24/24 [==============================] - 1s 33ms/step - loss: 0.2420 - accuracy: 0.9148\n",
            "84/84 [==============================] - 0s 5ms/step - loss: 0.3053 - accuracy: 0.8787\n",
            "accuracy: 87.87%\n",
            "3/3 [==============================] - 0s 8ms/step\n",
            "Epoch 1/20\n",
            "24/24 [==============================] - 1s 34ms/step - loss: 1.0507 - accuracy: 0.5277\n",
            "Epoch 2/20\n",
            "24/24 [==============================] - 1s 33ms/step - loss: 0.9239 - accuracy: 0.5790\n",
            "Epoch 3/20\n",
            "24/24 [==============================] - 1s 33ms/step - loss: 0.8471 - accuracy: 0.6215\n",
            "Epoch 4/20\n",
            "24/24 [==============================] - 1s 34ms/step - loss: 0.7659 - accuracy: 0.6757\n",
            "Epoch 5/20\n",
            "24/24 [==============================] - 1s 34ms/step - loss: 0.6783 - accuracy: 0.7316\n",
            "Epoch 6/20\n",
            "24/24 [==============================] - 1s 33ms/step - loss: 0.6024 - accuracy: 0.7714\n",
            "Epoch 7/20\n",
            "24/24 [==============================] - 1s 33ms/step - loss: 0.5372 - accuracy: 0.8056\n",
            "Epoch 8/20\n",
            "24/24 [==============================] - 1s 34ms/step - loss: 0.4817 - accuracy: 0.8299\n",
            "Epoch 9/20\n",
            "24/24 [==============================] - 1s 34ms/step - loss: 0.4470 - accuracy: 0.8422\n",
            "Epoch 10/20\n",
            "24/24 [==============================] - 1s 33ms/step - loss: 0.4080 - accuracy: 0.8544\n",
            "Epoch 11/20\n",
            "24/24 [==============================] - 1s 34ms/step - loss: 0.3798 - accuracy: 0.8646\n",
            "Epoch 12/20\n",
            "24/24 [==============================] - 1s 34ms/step - loss: 0.3530 - accuracy: 0.8769\n",
            "Epoch 13/20\n",
            "24/24 [==============================] - 1s 33ms/step - loss: 0.3351 - accuracy: 0.8824\n",
            "Epoch 14/20\n",
            "24/24 [==============================] - 1s 34ms/step - loss: 0.3083 - accuracy: 0.8931\n",
            "Epoch 15/20\n",
            "24/24 [==============================] - 1s 34ms/step - loss: 0.2948 - accuracy: 0.8930\n",
            "Epoch 16/20\n",
            "24/24 [==============================] - 1s 34ms/step - loss: 0.2788 - accuracy: 0.9018\n",
            "Epoch 17/20\n",
            "24/24 [==============================] - 1s 34ms/step - loss: 0.2643 - accuracy: 0.9063\n",
            "Epoch 18/20\n",
            "24/24 [==============================] - 1s 33ms/step - loss: 0.2543 - accuracy: 0.9104\n",
            "Epoch 19/20\n",
            "24/24 [==============================] - 1s 34ms/step - loss: 0.2395 - accuracy: 0.9136\n",
            "Epoch 20/20\n",
            "24/24 [==============================] - 1s 34ms/step - loss: 0.2289 - accuracy: 0.9180\n",
            "84/84 [==============================] - 0s 5ms/step - loss: 0.3140 - accuracy: 0.8716\n",
            "accuracy: 87.16%\n",
            "3/3 [==============================] - 0s 7ms/step\n",
            "Epoch 1/20\n",
            "24/24 [==============================] - 1s 33ms/step - loss: 1.0123 - accuracy: 0.5445\n",
            "Epoch 2/20\n",
            "24/24 [==============================] - 1s 33ms/step - loss: 0.8934 - accuracy: 0.5985\n",
            "Epoch 3/20\n",
            "24/24 [==============================] - 1s 33ms/step - loss: 0.8198 - accuracy: 0.6392\n",
            "Epoch 4/20\n",
            "24/24 [==============================] - 1s 33ms/step - loss: 0.7369 - accuracy: 0.6949\n",
            "Epoch 5/20\n",
            "24/24 [==============================] - 1s 34ms/step - loss: 0.6528 - accuracy: 0.7468\n",
            "Epoch 6/20\n",
            "24/24 [==============================] - 1s 33ms/step - loss: 0.5778 - accuracy: 0.7860\n",
            "Epoch 7/20\n",
            "24/24 [==============================] - 1s 33ms/step - loss: 0.5139 - accuracy: 0.8100\n",
            "Epoch 8/20\n",
            "24/24 [==============================] - 1s 33ms/step - loss: 0.4634 - accuracy: 0.8299\n",
            "Epoch 9/20\n",
            "24/24 [==============================] - 1s 34ms/step - loss: 0.4290 - accuracy: 0.8453\n",
            "Epoch 10/20\n",
            "24/24 [==============================] - 1s 33ms/step - loss: 0.3994 - accuracy: 0.8554\n",
            "Epoch 11/20\n",
            "24/24 [==============================] - 1s 33ms/step - loss: 0.3684 - accuracy: 0.8682\n",
            "Epoch 12/20\n",
            "24/24 [==============================] - 1s 33ms/step - loss: 0.3464 - accuracy: 0.8740\n",
            "Epoch 13/20\n",
            "24/24 [==============================] - 1s 34ms/step - loss: 0.3237 - accuracy: 0.8825\n",
            "Epoch 14/20\n",
            "24/24 [==============================] - 1s 33ms/step - loss: 0.3063 - accuracy: 0.8895\n",
            "Epoch 15/20\n",
            "24/24 [==============================] - 1s 33ms/step - loss: 0.2871 - accuracy: 0.8959\n",
            "Epoch 16/20\n",
            "24/24 [==============================] - 1s 33ms/step - loss: 0.2727 - accuracy: 0.8996\n",
            "Epoch 17/20\n",
            "24/24 [==============================] - 1s 33ms/step - loss: 0.2605 - accuracy: 0.9056\n",
            "Epoch 18/20\n",
            "24/24 [==============================] - 1s 33ms/step - loss: 0.2471 - accuracy: 0.9104\n",
            "Epoch 19/20\n",
            "24/24 [==============================] - 1s 33ms/step - loss: 0.2363 - accuracy: 0.9142\n",
            "Epoch 20/20\n",
            "24/24 [==============================] - 1s 33ms/step - loss: 0.2242 - accuracy: 0.9160\n",
            "84/84 [==============================] - 0s 5ms/step - loss: 0.2975 - accuracy: 0.8772\n",
            "accuracy: 87.72%\n",
            "3/3 [==============================] - 0s 8ms/step\n",
            "Epoch 1/20\n",
            "24/24 [==============================] - 1s 33ms/step - loss: 1.0014 - accuracy: 0.5508\n",
            "Epoch 2/20\n",
            "24/24 [==============================] - 1s 33ms/step - loss: 0.8897 - accuracy: 0.6000\n",
            "Epoch 3/20\n",
            "24/24 [==============================] - 1s 33ms/step - loss: 0.8185 - accuracy: 0.6374\n",
            "Epoch 4/20\n",
            "24/24 [==============================] - 1s 34ms/step - loss: 0.7371 - accuracy: 0.6914\n",
            "Epoch 5/20\n",
            "24/24 [==============================] - 1s 33ms/step - loss: 0.6466 - accuracy: 0.7469\n",
            "Epoch 6/20\n",
            "24/24 [==============================] - 1s 33ms/step - loss: 0.5676 - accuracy: 0.7876\n",
            "Epoch 7/20\n",
            "24/24 [==============================] - 1s 33ms/step - loss: 0.5075 - accuracy: 0.8158\n",
            "Epoch 8/20\n",
            "24/24 [==============================] - 1s 33ms/step - loss: 0.4584 - accuracy: 0.8325\n",
            "Epoch 9/20\n",
            "24/24 [==============================] - 1s 34ms/step - loss: 0.4203 - accuracy: 0.8468\n",
            "Epoch 10/20\n",
            "24/24 [==============================] - 1s 34ms/step - loss: 0.3883 - accuracy: 0.8591\n",
            "Epoch 11/20\n",
            "24/24 [==============================] - 1s 33ms/step - loss: 0.3608 - accuracy: 0.8700\n",
            "Epoch 12/20\n",
            "24/24 [==============================] - 1s 33ms/step - loss: 0.3388 - accuracy: 0.8756\n",
            "Epoch 13/20\n",
            "24/24 [==============================] - 1s 33ms/step - loss: 0.3143 - accuracy: 0.8858\n",
            "Epoch 14/20\n",
            "24/24 [==============================] - 1s 34ms/step - loss: 0.2977 - accuracy: 0.8897\n",
            "Epoch 15/20\n",
            "24/24 [==============================] - 1s 33ms/step - loss: 0.2822 - accuracy: 0.8963\n",
            "Epoch 16/20\n",
            "24/24 [==============================] - 1s 33ms/step - loss: 0.2690 - accuracy: 0.8992\n",
            "Epoch 17/20\n",
            "24/24 [==============================] - 1s 33ms/step - loss: 0.2554 - accuracy: 0.9066\n",
            "Epoch 18/20\n",
            "24/24 [==============================] - 1s 33ms/step - loss: 0.2440 - accuracy: 0.9096\n",
            "Epoch 19/20\n",
            "24/24 [==============================] - 1s 34ms/step - loss: 0.2317 - accuracy: 0.9143\n",
            "Epoch 20/20\n",
            "24/24 [==============================] - 1s 34ms/step - loss: 0.2219 - accuracy: 0.9180\n",
            "84/84 [==============================] - 0s 6ms/step - loss: 0.3235 - accuracy: 0.8693\n",
            "accuracy: 86.93%\n",
            "3/3 [==============================] - 0s 7ms/step\n",
            "Epoch 1/20\n",
            "24/24 [==============================] - 1s 34ms/step - loss: 1.0413 - accuracy: 0.5330\n",
            "Epoch 2/20\n",
            "24/24 [==============================] - 1s 34ms/step - loss: 0.9217 - accuracy: 0.5732\n",
            "Epoch 3/20\n",
            "24/24 [==============================] - 1s 33ms/step - loss: 0.8383 - accuracy: 0.6243\n",
            "Epoch 4/20\n",
            "24/24 [==============================] - 1s 34ms/step - loss: 0.7623 - accuracy: 0.6805\n",
            "Epoch 5/20\n",
            "24/24 [==============================] - 1s 33ms/step - loss: 0.6757 - accuracy: 0.7349\n",
            "Epoch 6/20\n",
            "24/24 [==============================] - 1s 33ms/step - loss: 0.5953 - accuracy: 0.7759\n",
            "Epoch 7/20\n",
            "24/24 [==============================] - 1s 33ms/step - loss: 0.5285 - accuracy: 0.8083\n",
            "Epoch 8/20\n",
            "24/24 [==============================] - 1s 34ms/step - loss: 0.4791 - accuracy: 0.8294\n",
            "Epoch 9/20\n",
            "24/24 [==============================] - 1s 34ms/step - loss: 0.4398 - accuracy: 0.8458\n",
            "Epoch 10/20\n",
            "24/24 [==============================] - 1s 33ms/step - loss: 0.4092 - accuracy: 0.8557\n",
            "Epoch 11/20\n",
            "24/24 [==============================] - 1s 34ms/step - loss: 0.3763 - accuracy: 0.8649\n",
            "Epoch 12/20\n",
            "24/24 [==============================] - 1s 33ms/step - loss: 0.3525 - accuracy: 0.8744\n",
            "Epoch 13/20\n",
            "24/24 [==============================] - 1s 33ms/step - loss: 0.3316 - accuracy: 0.8826\n",
            "Epoch 14/20\n",
            "24/24 [==============================] - 1s 34ms/step - loss: 0.3110 - accuracy: 0.8859\n",
            "Epoch 15/20\n",
            "24/24 [==============================] - 1s 33ms/step - loss: 0.2936 - accuracy: 0.8924\n",
            "Epoch 16/20\n",
            "24/24 [==============================] - 1s 33ms/step - loss: 0.2778 - accuracy: 0.9015\n",
            "Epoch 17/20\n",
            "24/24 [==============================] - 1s 33ms/step - loss: 0.2652 - accuracy: 0.9040\n",
            "Epoch 18/20\n",
            "24/24 [==============================] - 1s 34ms/step - loss: 0.2502 - accuracy: 0.9099\n",
            "Epoch 19/20\n",
            "24/24 [==============================] - 1s 33ms/step - loss: 0.2378 - accuracy: 0.9149\n",
            "Epoch 20/20\n",
            "24/24 [==============================] - 1s 34ms/step - loss: 0.2292 - accuracy: 0.9169\n",
            "84/84 [==============================] - 0s 5ms/step - loss: 0.3204 - accuracy: 0.8652\n",
            "accuracy: 86.52%\n",
            "3/3 [==============================] - 0s 8ms/step\n",
            "Epoch 1/20\n",
            "24/24 [==============================] - 1s 33ms/step - loss: 1.0501 - accuracy: 0.5368\n",
            "Epoch 2/20\n",
            "24/24 [==============================] - 1s 33ms/step - loss: 0.9220 - accuracy: 0.5843\n",
            "Epoch 3/20\n",
            "24/24 [==============================] - 1s 33ms/step - loss: 0.8471 - accuracy: 0.6224\n",
            "Epoch 4/20\n",
            "24/24 [==============================] - 1s 34ms/step - loss: 0.7679 - accuracy: 0.6742\n",
            "Epoch 5/20\n",
            "24/24 [==============================] - 1s 34ms/step - loss: 0.6879 - accuracy: 0.7256\n",
            "Epoch 6/20\n",
            "24/24 [==============================] - 1s 35ms/step - loss: 0.6084 - accuracy: 0.7691\n",
            "Epoch 7/20\n",
            "24/24 [==============================] - 1s 34ms/step - loss: 0.5452 - accuracy: 0.8011\n",
            "Epoch 8/20\n",
            "24/24 [==============================] - 1s 34ms/step - loss: 0.4936 - accuracy: 0.8229\n",
            "Epoch 9/20\n",
            "24/24 [==============================] - 1s 34ms/step - loss: 0.4504 - accuracy: 0.8410\n",
            "Epoch 10/20\n",
            "24/24 [==============================] - 1s 35ms/step - loss: 0.4135 - accuracy: 0.8533\n",
            "Epoch 11/20\n",
            "24/24 [==============================] - 1s 34ms/step - loss: 0.3863 - accuracy: 0.8606\n",
            "Epoch 12/20\n",
            "24/24 [==============================] - 1s 33ms/step - loss: 0.3628 - accuracy: 0.8699\n",
            "Epoch 13/20\n",
            "24/24 [==============================] - 1s 33ms/step - loss: 0.3413 - accuracy: 0.8793\n",
            "Epoch 14/20\n",
            "24/24 [==============================] - 1s 33ms/step - loss: 0.3184 - accuracy: 0.8861\n",
            "Epoch 15/20\n",
            "24/24 [==============================] - 1s 33ms/step - loss: 0.3002 - accuracy: 0.8926\n",
            "Epoch 16/20\n",
            "24/24 [==============================] - 1s 33ms/step - loss: 0.2846 - accuracy: 0.8994\n",
            "Epoch 17/20\n",
            "24/24 [==============================] - 1s 33ms/step - loss: 0.2726 - accuracy: 0.9035\n",
            "Epoch 18/20\n",
            "24/24 [==============================] - 1s 33ms/step - loss: 0.2607 - accuracy: 0.9061\n",
            "Epoch 19/20\n",
            "24/24 [==============================] - 1s 34ms/step - loss: 0.2424 - accuracy: 0.9121\n",
            "Epoch 20/20\n",
            "24/24 [==============================] - 1s 33ms/step - loss: 0.2317 - accuracy: 0.9151\n",
            "84/84 [==============================] - 0s 5ms/step - loss: 0.3245 - accuracy: 0.8697\n",
            "accuracy: 86.97%\n",
            "3/3 [==============================] - 0s 7ms/step\n",
            "Epoch 1/20\n",
            "24/24 [==============================] - 1s 33ms/step - loss: 1.0641 - accuracy: 0.5342\n",
            "Epoch 2/20\n",
            "24/24 [==============================] - 1s 33ms/step - loss: 0.9257 - accuracy: 0.5804\n",
            "Epoch 3/20\n",
            "24/24 [==============================] - 1s 33ms/step - loss: 0.8531 - accuracy: 0.6224\n",
            "Epoch 4/20\n",
            "24/24 [==============================] - 1s 33ms/step - loss: 0.7721 - accuracy: 0.6734\n",
            "Epoch 5/20\n",
            "24/24 [==============================] - 1s 33ms/step - loss: 0.6848 - accuracy: 0.7314\n",
            "Epoch 6/20\n",
            "24/24 [==============================] - 1s 33ms/step - loss: 0.6092 - accuracy: 0.7692\n",
            "Epoch 7/20\n",
            "24/24 [==============================] - 1s 34ms/step - loss: 0.5432 - accuracy: 0.8007\n",
            "Epoch 8/20\n",
            "24/24 [==============================] - 1s 33ms/step - loss: 0.4945 - accuracy: 0.8230\n",
            "Epoch 9/20\n",
            "24/24 [==============================] - 1s 33ms/step - loss: 0.4560 - accuracy: 0.8386\n",
            "Epoch 10/20\n",
            "24/24 [==============================] - 1s 34ms/step - loss: 0.4160 - accuracy: 0.8536\n",
            "Epoch 11/20\n",
            "24/24 [==============================] - 1s 33ms/step - loss: 0.3852 - accuracy: 0.8630\n",
            "Epoch 12/20\n",
            "24/24 [==============================] - 1s 34ms/step - loss: 0.3661 - accuracy: 0.8709\n",
            "Epoch 13/20\n",
            "24/24 [==============================] - 1s 34ms/step - loss: 0.3418 - accuracy: 0.8791\n",
            "Epoch 14/20\n",
            "24/24 [==============================] - 1s 34ms/step - loss: 0.3184 - accuracy: 0.8873\n",
            "Epoch 15/20\n",
            "24/24 [==============================] - 1s 33ms/step - loss: 0.3094 - accuracy: 0.8885\n",
            "Epoch 16/20\n",
            "24/24 [==============================] - 1s 33ms/step - loss: 0.2871 - accuracy: 0.8973\n",
            "Epoch 17/20\n",
            "24/24 [==============================] - 1s 33ms/step - loss: 0.2731 - accuracy: 0.9028\n",
            "Epoch 18/20\n",
            "24/24 [==============================] - 1s 33ms/step - loss: 0.2627 - accuracy: 0.9044\n",
            "Epoch 19/20\n",
            "24/24 [==============================] - 1s 33ms/step - loss: 0.2457 - accuracy: 0.9117\n",
            "Epoch 20/20\n",
            "24/24 [==============================] - 1s 34ms/step - loss: 0.2358 - accuracy: 0.9155\n",
            "84/84 [==============================] - 0s 5ms/step - loss: 0.3219 - accuracy: 0.8685\n",
            "accuracy: 86.85%\n",
            "3/3 [==============================] - 0s 8ms/step\n",
            "Model: \"sequential_23\"\n",
            "_________________________________________________________________\n",
            "Layer (type)                 Output Shape              Param #   \n",
            "=================================================================\n",
            "embedding_23 (Embedding)     (None, None, 50)          500000    \n",
            "_________________________________________________________________\n",
            "spatial_dropout1d_23 (Spatia (None, None, 50)          0         \n",
            "_________________________________________________________________\n",
            "bidirectional_23 (Bidirectio (None, 64)                21248     \n",
            "_________________________________________________________________\n",
            "dense_46 (Dense)             (None, 100)               6500      \n",
            "_________________________________________________________________\n",
            "batch_normalization_23 (Batc (None, 100)               400       \n",
            "_________________________________________________________________\n",
            "dropout_23 (Dropout)         (None, 100)               0         \n",
            "_________________________________________________________________\n",
            "dense_47 (Dense)             (None, 1)                 101       \n",
            "=================================================================\n",
            "Total params: 528,249\n",
            "Trainable params: 528,049\n",
            "Non-trainable params: 200\n",
            "_________________________________________________________________\n",
            "Accuracy: 86.85% (+/- 0.00%)\n",
            "Macro f1 score:  0.8715489939053178\n"
          ],
          "name": "stdout"
        },
        {
          "output_type": "display_data",
          "data": {
            "image/png": "[encoded data removed]",
            "text/plain": [
              "<Figure size 432x288 with 1 Axes>"
            ]
          },
          "metadata": {
            "tags": []
          }
        }
      ]
    },
    {
      "cell_type": "markdown",
      "metadata": {
        "id": "ZislXGiMEIhQ",
        "colab_type": "text"
      },
      "source": [
        "# Visualize and Analyze Results"
      ]
    },
    {
      "cell_type": "markdown",
      "metadata": {
        "id": "yNeC9VFAI4yB",
        "colab_type": "text"
      },
      "source": [
        "## Accuracy and Loss\n"
      ]
    },
    {
      "cell_type": "code",
      "metadata": {
        "id": "xTfDrwhjIOH5",
        "colab_type": "code",
        "colab": {
          "base_uri": "https://localhost:8080/",
          "height": 295
        },
        "outputId": "5c3b0123-80bd-434a-ee1b-ba080efe87ee"
      },
      "source": [
        "plt.title('Accuracy and Loss (10-fold cross validation)')\n",
        "plt.plot(history.history['accuracy'], label='accuracy')\n",
        "plt.plot(history.history['loss'], label='loss')\n",
        "plt.xlabel(\"Epochs\")\n",
        "plt.ylabel('Percentage')\n",
        "plt.legend(loc='best')\n",
        "plt.show()"
      ],
      "execution_count": 0,
      "outputs": [
        {
          "output_type": "display_data",
          "data": {
            "image/png": "[encoded data removed]",
            "text/plain": [
              "<Figure size 432x288 with 1 Axes>"
            ]
          },
          "metadata": {
            "tags": []
          }
        }
      ]
    },
    {
      "cell_type": "markdown",
      "metadata": {
        "id": "U6uWi2dUJCXV",
        "colab_type": "text"
      },
      "source": [
        "## Macro F1-Score\n",
        "\n"
      ]
    },
    {
      "cell_type": "code",
      "metadata": {
        "id": "erno7gYhqRjz",
        "colab_type": "code",
        "outputId": "15b62466-cc52-4380-8afb-656fe9814ed8",
        "colab": {
          "base_uri": "https://localhost:8080/",
          "height": 295
        }
      },
      "source": [
        "plt.plot([0,1],[0,1],linestyle='--',lw=2,color='r',label='Luck',alpha=.8)\n",
        "mean_tpr=np.mean(tprs,axis=0)\n",
        "mean_tpr[-1]=1.0\n",
        "mean_auc=auc(mean_fpr,mean_tpr)\n",
        "std_auc=np.std(tprs,axis=0)\n",
        "plt.plot(mean_fpr,mean_tpr,color='b',label=r'Mean ROC (area=%0.2f)'%mean_auc,lw=2,alpha=.8)\n",
        "std_tpr=np.std(tprs,axis=0)\n",
        "tprs_upper=np.minimum(mean_tpr+std_tpr,1)\n",
        "tprs_lower=np.maximum(mean_tpr-std_tpr,0)\n",
        "plt.fill_between(mean_tpr,tprs_lower,tprs_upper,color='gray',alpha=.2)\n",
        "plt.xlim([-0.05,1.05])\n",
        "plt.ylim([-0.05,1.05])\n",
        "plt.xlabel('False Positive Rate')\n",
        "plt.ylabel('True Positive Rate')\n",
        "plt.title('ROC')\n",
        "plt.legend(loc='lower right')\n",
        "plt.show()    "
      ],
      "execution_count": 0,
      "outputs": [
        {
          "output_type": "display_data",
          "data": {
            "image/png": "[encoded data removed]",
            "text/plain": [
              "<Figure size 432x288 with 1 Axes>"
            ]
          },
          "metadata": {
            "tags": []
          }
        }
      ]
    },
    {
      "cell_type": "markdown",
      "metadata": {
        "id": "TUsb3B8QJWqz",
        "colab_type": "text"
      },
      "source": [
        "## Model Architecture"
      ]
    },
    {
      "cell_type": "code",
      "metadata": {
        "id": "ZGEX--HyINUw",
        "colab_type": "code",
        "colab": {
          "base_uri": "https://localhost:8080/",
          "height": 758
        },
        "outputId": "5b869f39-c6fd-4fdf-85e7-5744eb2ba336"
      },
      "source": [
        "from tensorflow.keras.utils import plot_model\n",
        "plot_model(model, to_file='model.png')"
      ],
      "execution_count": 21,
      "outputs": [
        {
          "output_type": "execute_result",
          "data": {
            "image/png": "[encoded data removed]",
            "text/plain": [
              "<IPython.core.display.Image object>"
            ]
          },
          "metadata": {
            "tags": []
          },
          "execution_count": 21
        }
      ]
    }
  ]
}